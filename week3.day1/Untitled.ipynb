{
 "cells": [
  {
   "cell_type": "code",
   "execution_count": 11,
   "metadata": {},
   "outputs": [
    {
     "name": "stdout",
     "output_type": "stream",
     "text": [
      "__init__ of A\n"
     ]
    }
   ],
   "source": [
    "class A:\n",
    "    \n",
    "    def __init__(self):\n",
    "        print('__init__ of A')\n",
    "    \n",
    "    def methodA():\n",
    "        return \"A\"\n",
    "    \n",
    "    def _methodC():\n",
    "        return \"A\"\n",
    "    \n",
    "\n",
    "class B(A):\n",
    "    \n",
    "    def __init__(self):\n",
    "        super().__init__()\n",
    "    \n",
    "    def methodB(): \n",
    "        return \"B\"\n",
    "    \n",
    "x = B()"
   ]
  },
  {
   "cell_type": "code",
   "execution_count": 17,
   "metadata": {},
   "outputs": [],
   "source": [
    "class A:\n",
    "    \n",
    "    a = 100\n",
    "    _b= 1009\n",
    "    c=300\n",
    "\n",
    "    \n",
    "    def getter():        \n",
    "        return _b\n",
    "    \n",
    "    def setter():\n",
    "        A._b = 10000\n",
    "        return A._b\n",
    "        \n",
    "    \n",
    "    def _bA():\n",
    "        return 'b'\n",
    "    \n",
    "    \n",
    "x =A()"
   ]
  },
  {
   "cell_type": "code",
   "execution_count": null,
   "metadata": {},
   "outputs": [],
   "source": [
    "x.getter"
   ]
  }
 ],
 "metadata": {
  "kernelspec": {
   "display_name": "Python 3",
   "language": "python",
   "name": "python3"
  },
  "language_info": {
   "codemirror_mode": {
    "name": "ipython",
    "version": 3
   },
   "file_extension": ".py",
   "mimetype": "text/x-python",
   "name": "python",
   "nbconvert_exporter": "python",
   "pygments_lexer": "ipython3",
   "version": "3.7.3"
  }
 },
 "nbformat": 4,
 "nbformat_minor": 2
}
