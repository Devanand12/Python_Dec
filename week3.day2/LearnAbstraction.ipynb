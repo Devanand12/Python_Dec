{
 "cells": [
  {
   "cell_type": "code",
   "execution_count": 1,
   "metadata": {},
   "outputs": [],
   "source": [
    "from abc import ABC, abstractmethod\n",
    "\n",
    "class Library(ABC):\n",
    "    \n",
    "    @abstractmethod\n",
    "    def display_available_book(self):\n",
    "        pass\n",
    "    \n",
    "    @abstractmethod\n",
    "    def lendBook(self):\n",
    "        print(\"Hello\")\n",
    "    \n",
    "    @abstractmethod\n",
    "    def add_book(self):\n",
    "        pass "
   ]
  },
  {
   "cell_type": "code",
   "execution_count": 2,
   "metadata": {},
   "outputs": [],
   "source": [
    "class Branch1(Library):\n",
    "    \n",
    "    def __init__(self, available_book):\n",
    "        self.available_book = available_book\n",
    "            \n",
    "    \n",
    "    def display_available_book(self):\n",
    "        print(\"Available Book: \")\n",
    "        for eachBook in self.available_book:\n",
    "            print(eachBook)    \n",
    "    \n",
    "    def lendBook(self, requestBook):\n",
    "        if requestBook in self.available_book:\n",
    "            print(\"you have now borrowed the book\")\n",
    "            self.available_book.remove(requestBook)\n",
    "        else:\n",
    "            print(\"The book is now availabe in our list\")\n",
    "            \n",
    "    \n",
    "    def add_book(self, returnBook):\n",
    "        self.available_book.append(returnBook)\n",
    "        print(\"You have return the book, Thank you\")\n",
    "        \n",
    "    \n",
    "\n",
    "class Customer:\n",
    "    \n",
    "    def requestBook(self):\n",
    "        print(\"Enter the name of book you would like to borrow:\")\n",
    "        self.book = input()\n",
    "        return self.book\n",
    "        \n",
    "        \n",
    "    def returnBook(self):\n",
    "        print(\"Enter the name of the book which you are returning:\")\n",
    "        self.book = input()\n",
    "        return self.book\n",
    "   "
   ]
  },
  {
   "cell_type": "code",
   "execution_count": 3,
   "metadata": {},
   "outputs": [],
   "source": [
    "lib = Branch1(['Python', 'Java', 'Selenium', 'DevOps'])\n",
    "cum = Customer()\n"
   ]
  },
  {
   "cell_type": "code",
   "execution_count": 6,
   "metadata": {},
   "outputs": [
    {
     "name": "stdout",
     "output_type": "stream",
     "text": [
      "Enter 1 to display the available books\n",
      "Enter 2 to request for a book\n",
      "Enter 3 to return a book\n",
      "Enter 4 to exit\n",
      "3\n",
      "Enter the name of the book which you are returning:\n",
      "Java\n",
      "You have return the book, Thank you\n"
     ]
    }
   ],
   "source": [
    "print(\"Enter 1 to display the available books\")\n",
    "print(\"Enter 2 to request for a book\")\n",
    "print(\"Enter 3 to return a book\")\n",
    "print(\"Enter 4 to exit\")\n",
    "\n",
    "userChoice = int(input())\n",
    "if(userChoice is 1):\n",
    "    lib.display_available_book()\n",
    "elif(userChoice is 2):\n",
    "    requestedBook = cum.requestBook()\n",
    "    lib.lendBook(requestedBook)\n",
    "elif(userChoice is 3):\n",
    "    returnedBook = cum.returnBook()\n",
    "    lib.add_book(returnedBook)\n",
    "elif(userChoice is 4):\n",
    "    quit()"
   ]
  },
  {
   "cell_type": "markdown",
   "metadata": {},
   "source": [
    "\n"
   ]
  },
  {
   "cell_type": "code",
   "execution_count": 57,
   "metadata": {},
   "outputs": [],
   "source": [
    "class A:\n",
    "    \n",
    "    val = \"gopinath jayakumar\"\n",
    "    \n",
    "    def __init__(self):\n",
    "        self.val = \"sethu\"\n",
    "    \n",
    "    \n",
    "    def s(self):print(\"Self\", self.val)\n",
    "    \n",
    "    @classmethod\n",
    "    def a(cls, self):\n",
    "        print(\"Cls\")\n",
    "        print(cls.val)\n",
    "        cls.val = self\n",
    "        print(cls.val)\n",
    "    \n",
    "    \n",
    "    @staticmethod\n",
    "    def c():print(\"static\", self.val)"
   ]
  },
  {
   "cell_type": "code",
   "execution_count": 58,
   "metadata": {},
   "outputs": [],
   "source": [
    "m  = A()\n",
    "\n"
   ]
  },
  {
   "cell_type": "code",
   "execution_count": 59,
   "metadata": {},
   "outputs": [
    {
     "name": "stdout",
     "output_type": "stream",
     "text": [
      "Self sethu\n"
     ]
    }
   ],
   "source": [
    "m.s()"
   ]
  },
  {
   "cell_type": "code",
   "execution_count": 60,
   "metadata": {},
   "outputs": [
    {
     "name": "stdout",
     "output_type": "stream",
     "text": [
      "Cls\n",
      "gopinath jayakumar\n",
      "Gopi\n"
     ]
    }
   ],
   "source": [
    "m.a('Gopi')"
   ]
  },
  {
   "cell_type": "code",
   "execution_count": 19,
   "metadata": {},
   "outputs": [
    {
     "ename": "NameError",
     "evalue": "name 'self' is not defined",
     "output_type": "error",
     "traceback": [
      "\u001b[1;31m---------------------------------------------------------------------------\u001b[0m",
      "\u001b[1;31mNameError\u001b[0m                                 Traceback (most recent call last)",
      "\u001b[1;32m<ipython-input-19-5a962e04c18e>\u001b[0m in \u001b[0;36m<module>\u001b[1;34m\u001b[0m\n\u001b[1;32m----> 1\u001b[1;33m \u001b[0mm\u001b[0m\u001b[1;33m.\u001b[0m\u001b[0mc\u001b[0m\u001b[1;33m(\u001b[0m\u001b[1;33m)\u001b[0m\u001b[1;33m\u001b[0m\u001b[1;33m\u001b[0m\u001b[0m\n\u001b[0m",
      "\u001b[1;32m<ipython-input-15-a690f2f260c7>\u001b[0m in \u001b[0;36mc\u001b[1;34m()\u001b[0m\n\u001b[0;32m     12\u001b[0m \u001b[1;33m\u001b[0m\u001b[0m\n\u001b[0;32m     13\u001b[0m     \u001b[1;33m@\u001b[0m\u001b[0mstaticmethod\u001b[0m\u001b[1;33m\u001b[0m\u001b[1;33m\u001b[0m\u001b[0m\n\u001b[1;32m---> 14\u001b[1;33m     \u001b[1;32mdef\u001b[0m \u001b[0mc\u001b[0m\u001b[1;33m(\u001b[0m\u001b[1;33m)\u001b[0m\u001b[1;33m:\u001b[0m\u001b[0mprint\u001b[0m\u001b[1;33m(\u001b[0m\u001b[1;34m\"static\"\u001b[0m\u001b[1;33m,\u001b[0m \u001b[0mself\u001b[0m\u001b[1;33m.\u001b[0m\u001b[0mval\u001b[0m\u001b[1;33m)\u001b[0m\u001b[1;33m\u001b[0m\u001b[1;33m\u001b[0m\u001b[0m\n\u001b[0m",
      "\u001b[1;31mNameError\u001b[0m: name 'self' is not defined"
     ]
    }
   ],
   "source": [
    "m.c()"
   ]
  },
  {
   "cell_type": "code",
   "execution_count": 61,
   "metadata": {},
   "outputs": [
    {
     "name": "stdout",
     "output_type": "stream",
     "text": [
      "Gopi\n"
     ]
    }
   ],
   "source": [
    "print(A.val)"
   ]
  },
  {
   "cell_type": "code",
   "execution_count": null,
   "metadata": {},
   "outputs": [],
   "source": []
  }
 ],
 "metadata": {
  "kernelspec": {
   "display_name": "Python 3",
   "language": "python",
   "name": "python3"
  },
  "language_info": {
   "codemirror_mode": {
    "name": "ipython",
    "version": 3
   },
   "file_extension": ".py",
   "mimetype": "text/x-python",
   "name": "python",
   "nbconvert_exporter": "python",
   "pygments_lexer": "ipython3",
   "version": "3.7.1"
  }
 },
 "nbformat": 4,
 "nbformat_minor": 2
}
