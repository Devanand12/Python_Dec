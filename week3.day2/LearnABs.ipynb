{
 "cells": [
  {
   "cell_type": "code",
   "execution_count": 4,
   "metadata": {},
   "outputs": [],
   "source": [
    "from abc import ABC, abstractmethod\n",
    "\n",
    "class Library(ABC):\n",
    "    \n",
    "    @abstractmethod\n",
    "    def display_available_book(self):\n",
    "        pass\n",
    "    \n",
    "    @abstractmethod\n",
    "    def lendBook(self): pass\n",
    "       \n",
    "    \n",
    "    @abstractmethod\n",
    "    def add_book(self):\n",
    "        pass "
   ]
  },
  {
   "cell_type": "code",
   "execution_count": 5,
   "metadata": {},
   "outputs": [],
   "source": [
    "class Anna_Lib(Library):\n",
    "    \n",
    "    def __init__(self, available_books):\n",
    "        self.available_books = available_books\n",
    "    \n",
    "    \n",
    "    def display_available_book(self):\n",
    "        print(\"Available Books \")\n",
    "        for i in self.available_books:\n",
    "            print(i)\n",
    "            \n",
    "    def lendBook(self, requested_book):\n",
    "        if requested_book in self.available_books:\n",
    "            print(\"send\")\n",
    "            self.available_books.remove(requested_book)\n",
    "        else:\n",
    "            print(\"sorry\")\n",
    "            \n",
    "            \n",
    "    def add_book(self, return_book):\n",
    "        self.available_books.append(return_book)\n",
    "    \n",
    "                  \n",
    "            \n",
    "\n",
    "            \n",
    "class Cus:    \n",
    "    \n",
    "    \n",
    "    def request_book(self):\n",
    "        request_book = input(\"Enter the book name: \")\n",
    "        return request_book\n",
    "    \n",
    "    def return_book(self, return_book):\n",
    "        return return_book\n",
    "        \n",
    "        \n",
    "    "
   ]
  },
  {
   "cell_type": "code",
   "execution_count": 6,
   "metadata": {},
   "outputs": [],
   "source": [
    "lib = Anna_Lib(['python', 'java', 'C++', 'DevOps'])\n",
    "c = Cus()"
   ]
  },
  {
   "cell_type": "code",
   "execution_count": 7,
   "metadata": {},
   "outputs": [
    {
     "name": "stdout",
     "output_type": "stream",
     "text": [
      "Available Books \n",
      "python\n",
      "java\n",
      "C++\n",
      "DevOps\n"
     ]
    }
   ],
   "source": [
    "# 1 Display list of books\n",
    "lib.display_available_book()"
   ]
  },
  {
   "cell_type": "code",
   "execution_count": 8,
   "metadata": {},
   "outputs": [
    {
     "name": "stdout",
     "output_type": "stream",
     "text": [
      "Enter the book name: python\n"
     ]
    }
   ],
   "source": [
    "search = c.request_book()"
   ]
  },
  {
   "cell_type": "code",
   "execution_count": 9,
   "metadata": {},
   "outputs": [
    {
     "data": {
      "text/plain": [
       "'python'"
      ]
     },
     "execution_count": 9,
     "metadata": {},
     "output_type": "execute_result"
    }
   ],
   "source": [
    "search"
   ]
  },
  {
   "cell_type": "code",
   "execution_count": 10,
   "metadata": {},
   "outputs": [
    {
     "name": "stdout",
     "output_type": "stream",
     "text": [
      "send\n"
     ]
    }
   ],
   "source": [
    "lib.lendBook(search)"
   ]
  },
  {
   "cell_type": "code",
   "execution_count": 11,
   "metadata": {},
   "outputs": [
    {
     "data": {
      "text/plain": [
       "3"
      ]
     },
     "execution_count": 11,
     "metadata": {},
     "output_type": "execute_result"
    }
   ],
   "source": [
    "len(lib.available_books)"
   ]
  },
  {
   "cell_type": "code",
   "execution_count": 12,
   "metadata": {},
   "outputs": [],
   "source": [
    "lib.add_book(search)"
   ]
  },
  {
   "cell_type": "code",
   "execution_count": 13,
   "metadata": {},
   "outputs": [
    {
     "data": {
      "text/plain": [
       "4"
      ]
     },
     "execution_count": 13,
     "metadata": {},
     "output_type": "execute_result"
    }
   ],
   "source": [
    "len(lib.available_books)"
   ]
  },
  {
   "cell_type": "code",
   "execution_count": null,
   "metadata": {},
   "outputs": [],
   "source": []
  }
 ],
 "metadata": {
  "kernelspec": {
   "display_name": "Python 3",
   "language": "python",
   "name": "python3"
  },
  "language_info": {
   "codemirror_mode": {
    "name": "ipython",
    "version": 3
   },
   "file_extension": ".py",
   "mimetype": "text/x-python",
   "name": "python",
   "nbconvert_exporter": "python",
   "pygments_lexer": "ipython3",
   "version": "3.7.1"
  }
 },
 "nbformat": 4,
 "nbformat_minor": 2
}
